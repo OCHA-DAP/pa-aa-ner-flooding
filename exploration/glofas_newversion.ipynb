{
 "cells": [
  {
   "cell_type": "code",
   "execution_count": 1,
   "id": "23cbd422",
   "metadata": {},
   "outputs": [
    {
     "data": {
      "text/html": [
       "\n",
       "                <script type=\"application/javascript\" id=\"jupyter_black\">\n",
       "                (function() {\n",
       "                    if (window.IPython === undefined) {\n",
       "                        return\n",
       "                    }\n",
       "                    var msg = \"WARNING: it looks like you might have loaded \" +\n",
       "                        \"jupyter_black in a non-lab notebook with \" +\n",
       "                        \"`is_lab=True`. Please double check, and if \" +\n",
       "                        \"loading with `%load_ext` please review the README!\"\n",
       "                    console.log(msg)\n",
       "                    alert(msg)\n",
       "                })()\n",
       "                </script>\n",
       "                "
      ],
      "text/plain": [
       "<IPython.core.display.HTML object>"
      ]
     },
     "metadata": {},
     "output_type": "display_data"
    }
   ],
   "source": [
    "%load_ext jupyter_black\n",
    "%load_ext autoreload\n",
    "%autoreload 2"
   ]
  },
  {
   "cell_type": "code",
   "execution_count": 2,
   "id": "45d24fb4",
   "metadata": {},
   "outputs": [],
   "source": [
    "from pathlib import Path\n",
    "import sys\n",
    "import datetime\n",
    "from dotenv import load_dotenv"
   ]
  },
  {
   "cell_type": "code",
   "execution_count": 3,
   "id": "7d941640",
   "metadata": {},
   "outputs": [
    {
     "name": "stdout",
     "output_type": "stream",
     "text": [
      "['/Users/tdowning/OCHA/repos/pa-aa-ner-flooding/exploration', '/Users/tdowning/.pyenv/versions/3.11.4/lib/python311.zip', '/Users/tdowning/.pyenv/versions/3.11.4/lib/python3.11', '/Users/tdowning/.pyenv/versions/3.11.4/lib/python3.11/lib-dynload', '', '/Users/tdowning/.pyenv/versions/pa-aa-ner-flooding/lib/python3.11/site-packages', '/Users/tdowning/OCHA/repos/ocha-anticipy/src']\n"
     ]
    }
   ],
   "source": [
    "print(sys.path)"
   ]
  },
  {
   "cell_type": "code",
   "execution_count": 4,
   "id": "bcaedfee",
   "metadata": {},
   "outputs": [
    {
     "name": "stderr",
     "output_type": "stream",
     "text": [
      "/Users/tdowning/.pyenv/versions/pa-aa-ner-flooding/lib/python3.11/site-packages/quantulum3/classifier.py:28: UserWarning: Classifier dependencies not installed. Run pip install quantulum3[classifier] to install them. The classifer helps to dissambiguate units.\n",
      "  warnings.warn(\n"
     ]
    }
   ],
   "source": [
    "from ochanticipy import (\n",
    "    create_country_config,\n",
    "    CodAB,\n",
    "    GeoBoundingBox,\n",
    "    GlofasForecast,\n",
    "    GlofasReanalysis,\n",
    "    GlofasReforecast,\n",
    ")"
   ]
  },
  {
   "cell_type": "code",
   "execution_count": 5,
   "id": "099af202",
   "metadata": {},
   "outputs": [
    {
     "data": {
      "text/plain": [
       "True"
      ]
     },
     "execution_count": 5,
     "metadata": {},
     "output_type": "execute_result"
    }
   ],
   "source": [
    "load_dotenv()"
   ]
  },
  {
   "cell_type": "code",
   "execution_count": 6,
   "id": "022e1d3e",
   "metadata": {},
   "outputs": [],
   "source": [
    "adm1_sel = [\"Tillabéri\", \"Niamey\", \"Dosso\", \"Maradi\"]\n",
    "startdate = datetime.date(2022, 8, 20)\n",
    "enddate = datetime.date(2022, 8, 21)\n",
    "\n",
    "country_config = create_country_config(iso3=\"ner\")\n",
    "codab = CodAB(country_config=country_config)\n",
    "# codab.download()\n",
    "gdf_adm1 = codab.load(admin_level=1)\n",
    "gdf_aoi = gdf_adm1[gdf_adm1[\"adm_01\"].isin(adm1_sel)]\n",
    "geobb = GeoBoundingBox.from_shape(gdf_aoi)"
   ]
  },
  {
   "cell_type": "code",
   "execution_count": 7,
   "id": "61d21e56",
   "metadata": {},
   "outputs": [],
   "source": [
    "forecast = GlofasForecast(\n",
    "    country_config=country_config,\n",
    "    geo_bounding_box=geobb,\n",
    "    leadtime_max=15,\n",
    "    start_date=startdate,\n",
    "    end_date=enddate,\n",
    ")\n",
    "reanalysis = GlofasReanalysis(\n",
    "    country_config=country_config,\n",
    "    geo_bounding_box=geobb,\n",
    "    start_date=startdate,\n",
    "    end_date=enddate,\n",
    ")\n",
    "reforecast = GlofasReforecast(\n",
    "    country_config=country_config,\n",
    "    geo_bounding_box=geobb,\n",
    "    leadtime_max=15,\n",
    "    start_date=startdate,\n",
    "    end_date=enddate,\n",
    ")"
   ]
  },
  {
   "cell_type": "code",
   "execution_count": 8,
   "id": "a2e94d5a",
   "metadata": {},
   "outputs": [
    {
     "name": "stderr",
     "output_type": "stream",
     "text": [
      "2023-08-22 16:41:27,864 INFO Welcome to the CDS\n",
      "INFO:cdsapi:Welcome to the CDS\n",
      "2023-08-22 16:41:27,865 INFO Sending request to https://cds.climate.copernicus.eu/api/v2/resources/cems-glofas-reforecast\n",
      "INFO:cdsapi:Sending request to https://cds.climate.copernicus.eu/api/v2/resources/cems-glofas-reforecast\n",
      "2023-08-22 16:53:30,669 INFO Downloading https://download-0013-clone.copernicus-climate.eu/cache-compute-0013/cache/data6/adaptor.mars.external-1692747688.562677-12810-12-75c29acb-2ae2-45b1-8385-7d10cac2a016.grib to /Users/tdowning/Insync/tristan.downing@humdata.org/Google Drive - Shared drives/Predictive Analytics/CERF Anticipatory Action/General - All AA projects/Data/public/raw/ner/glofas/cems-glofas-reforecast/ner_cems-glofas-reforecast_v4_2022-08_ltmax15d_Np15d725Sp11d625Ep8d575Wp0d125.grib (54.7M)\n",
      "INFO:cdsapi:Downloading https://download-0013-clone.copernicus-climate.eu/cache-compute-0013/cache/data6/adaptor.mars.external-1692747688.562677-12810-12-75c29acb-2ae2-45b1-8385-7d10cac2a016.grib to /Users/tdowning/Insync/tristan.downing@humdata.org/Google Drive - Shared drives/Predictive Analytics/CERF Anticipatory Action/General - All AA projects/Data/public/raw/ner/glofas/cems-glofas-reforecast/ner_cems-glofas-reforecast_v4_2022-08_ltmax15d_Np15d725Sp11d625Ep8d575Wp0d125.grib (54.7M)\n",
      "2023-08-22 16:53:54,369 INFO Download rate 2.3M/s                                                             \n",
      "INFO:cdsapi:Download rate 2.3M/s\n"
     ]
    },
    {
     "data": {
      "text/plain": [
       "[PosixPath('/Users/tdowning/Insync/tristan.downing@humdata.org/Google Drive - Shared drives/Predictive Analytics/CERF Anticipatory Action/General - All AA projects/Data/public/raw/ner/glofas/cems-glofas-reforecast/ner_cems-glofas-reforecast_v4_2022-08_ltmax15d_Np15d725Sp11d625Ep8d575Wp0d125.grib')]"
      ]
     },
     "execution_count": 8,
     "metadata": {},
     "output_type": "execute_result"
    }
   ],
   "source": [
    "reforecast.download()"
   ]
  },
  {
   "cell_type": "code",
   "execution_count": 9,
   "id": "9e63bcd8",
   "metadata": {},
   "outputs": [
    {
     "data": {
      "text/plain": [
       "[PosixPath('/Users/tdowning/Insync/tristan.downing@humdata.org/Google Drive - Shared drives/Predictive Analytics/CERF Anticipatory Action/General - All AA projects/Data/public/processed/ner/glofas/ner_cems-glofas-reforecast_v4_2022-08_ltmax15d_Np15d725Sp11d625Ep8d575Wp0d125_processed.nc')]"
      ]
     },
     "execution_count": 9,
     "metadata": {},
     "output_type": "execute_result"
    }
   ],
   "source": [
    "reforecast.process()"
   ]
  },
  {
   "cell_type": "code",
   "execution_count": 10,
   "id": "b8c15585",
   "metadata": {},
   "outputs": [
    {
     "data": {
      "text/plain": [
       "(array([329.,  82., 316., 304., 153.,  79.,  43.,  12.,   0.,   2.]),\n",
       " array([ 674.203125  , 1531.41638184, 2388.62963867, 3245.84301758,\n",
       "        4103.05615234, 4960.26953125, 5817.48291016, 6674.69628906,\n",
       "        7531.90917969, 8389.12304688, 9246.3359375 ]),\n",
       " <BarContainer object of 10 artists>)"
      ]
     },
     "execution_count": 10,
     "metadata": {},
     "output_type": "execute_result"
    },
    {
     "data": {
      "image/png": "[encoded data removed]",
      "text/plain": [
       "<Figure size 640x480 with 1 Axes>"
      ]
     },
     "metadata": {},
     "output_type": "display_data"
    }
   ],
   "source": [
    "ds = reforecast.load()\n",
    "da = ds[\"Niamey\"]\n",
    "da.plot()"
   ]
  },
  {
   "cell_type": "code",
   "execution_count": 11,
   "id": "0666f79f",
   "metadata": {},
   "outputs": [
    {
     "name": "stderr",
     "output_type": "stream",
     "text": [
      "2023-08-22 16:58:45,793 INFO Welcome to the CDS\n",
      "INFO:cdsapi:Welcome to the CDS\n",
      "2023-08-22 16:58:45,796 INFO Sending request to https://cds.climate.copernicus.eu/api/v2/resources/cems-glofas-historical\n",
      "INFO:cdsapi:Sending request to https://cds.climate.copernicus.eu/api/v2/resources/cems-glofas-historical\n",
      "2023-08-22 17:02:46,987 INFO Downloading https://download-0019.copernicus-climate.eu/cache-compute-0019/cache/data1/adaptor.mars.external-1692748726.6198184-29845-14-6a45cfb0-da5f-4edc-b36d-aba6b23b8bf7.grib to /Users/tdowning/Insync/tristan.downing@humdata.org/Google Drive - Shared drives/Predictive Analytics/CERF Anticipatory Action/General - All AA projects/Data/public/raw/ner/glofas/cems-glofas-historical/ner_cems-glofas-historical_v4_2022_Np15d725Sp11d625Ep8d575Wp0d125.grib (15.1M)\n",
      "INFO:cdsapi:Downloading https://download-0019.copernicus-climate.eu/cache-compute-0019/cache/data1/adaptor.mars.external-1692748726.6198184-29845-14-6a45cfb0-da5f-4edc-b36d-aba6b23b8bf7.grib to /Users/tdowning/Insync/tristan.downing@humdata.org/Google Drive - Shared drives/Predictive Analytics/CERF Anticipatory Action/General - All AA projects/Data/public/raw/ner/glofas/cems-glofas-historical/ner_cems-glofas-historical_v4_2022_Np15d725Sp11d625Ep8d575Wp0d125.grib (15.1M)\n",
      "2023-08-22 17:02:52,369 INFO Download rate 2.8M/s                                                             \n",
      "INFO:cdsapi:Download rate 2.8M/s\n"
     ]
    },
    {
     "data": {
      "text/plain": [
       "[PosixPath('/Users/tdowning/Insync/tristan.downing@humdata.org/Google Drive - Shared drives/Predictive Analytics/CERF Anticipatory Action/General - All AA projects/Data/public/raw/ner/glofas/cems-glofas-historical/ner_cems-glofas-historical_v4_2022_Np15d725Sp11d625Ep8d575Wp0d125.grib')]"
      ]
     },
     "execution_count": 11,
     "metadata": {},
     "output_type": "execute_result"
    }
   ],
   "source": [
    "reanalysis.download()"
   ]
  },
  {
   "cell_type": "code",
   "execution_count": 12,
   "id": "d92a8aa5",
   "metadata": {},
   "outputs": [
    {
     "data": {
      "text/plain": [
       "[PosixPath('/Users/tdowning/Insync/tristan.downing@humdata.org/Google Drive - Shared drives/Predictive Analytics/CERF Anticipatory Action/General - All AA projects/Data/public/processed/ner/glofas/ner_cems-glofas-historical_v4_2022_Np15d725Sp11d625Ep8d575Wp0d125_processed.nc')]"
      ]
     },
     "execution_count": 12,
     "metadata": {},
     "output_type": "execute_result"
    }
   ],
   "source": [
    "reanalysis.process()"
   ]
  },
  {
   "cell_type": "code",
   "execution_count": 13,
   "id": "e4a0e218",
   "metadata": {},
   "outputs": [
    {
     "data": {
      "text/plain": [
       "[<matplotlib.lines.Line2D at 0x2ae9f9010>]"
      ]
     },
     "execution_count": 13,
     "metadata": {},
     "output_type": "execute_result"
    },
    {
     "data": {
      "image/png": "[encoded data removed]",
      "text/plain": [
       "<Figure size 640x480 with 1 Axes>"
      ]
     },
     "metadata": {},
     "output_type": "display_data"
    }
   ],
   "source": [
    "ds = reanalysis.load()\n",
    "da = ds[\"Niamey\"]\n",
    "\n",
    "da.plot()"
   ]
  },
  {
   "cell_type": "code",
   "execution_count": 14,
   "id": "0990d72d",
   "metadata": {
    "scrolled": false
   },
   "outputs": [
    {
     "name": "stderr",
     "output_type": "stream",
     "text": [
      "2023-08-22 17:03:26,889 INFO Welcome to the CDS\n",
      "INFO:cdsapi:Welcome to the CDS\n",
      "2023-08-22 17:03:26,892 INFO Sending request to https://cds.climate.copernicus.eu/api/v2/resources/cems-glofas-forecast\n",
      "INFO:cdsapi:Sending request to https://cds.climate.copernicus.eu/api/v2/resources/cems-glofas-forecast\n",
      "2023-08-22 17:03:27,298 INFO Welcome to the CDS\n",
      "INFO:cdsapi:Welcome to the CDS\n",
      "2023-08-22 17:03:27,313 INFO Sending request to https://cds.climate.copernicus.eu/api/v2/resources/cems-glofas-forecast\n",
      "INFO:cdsapi:Sending request to https://cds.climate.copernicus.eu/api/v2/resources/cems-glofas-forecast\n",
      "2023-08-22 17:05:28,515 INFO Downloading https://download-0012-clone.copernicus-climate.eu/cache-compute-0012/cache/data0/adaptor.mars.external-1692749009.1357844-16200-14-0d6f910f-a5a6-4220-b677-b8c9ab2d3649.grib to /Users/tdowning/Insync/tristan.downing@humdata.org/Google Drive - Shared drives/Predictive Analytics/CERF Anticipatory Action/General - All AA projects/Data/public/raw/ner/glofas/cems-glofas-forecast/ner_cems-glofas-forecast_v4_2022-08-20_ltmax15d_Np15d725Sp11d625Ep8d575Wp0d125.grib (8.4M)\n",
      "INFO:cdsapi:Downloading https://download-0012-clone.copernicus-climate.eu/cache-compute-0012/cache/data0/adaptor.mars.external-1692749009.1357844-16200-14-0d6f910f-a5a6-4220-b677-b8c9ab2d3649.grib to /Users/tdowning/Insync/tristan.downing@humdata.org/Google Drive - Shared drives/Predictive Analytics/CERF Anticipatory Action/General - All AA projects/Data/public/raw/ner/glofas/cems-glofas-forecast/ner_cems-glofas-forecast_v4_2022-08-20_ltmax15d_Np15d725Sp11d625Ep8d575Wp0d125.grib (8.4M)\n",
      "2023-08-22 17:05:32,746 INFO Download rate 2M/s                                                               \n",
      "INFO:cdsapi:Download rate 2M/s\n",
      "2023-08-22 17:07:33,353 INFO Downloading https://download-0003-clone.copernicus-climate.eu/cache-compute-0003/cache/data6/adaptor.mars.external-1692749106.0519524-8051-2-d091dc76-1882-473b-81f7-1c16e84a43a8.grib to /Users/tdowning/Insync/tristan.downing@humdata.org/Google Drive - Shared drives/Predictive Analytics/CERF Anticipatory Action/General - All AA projects/Data/public/raw/ner/glofas/cems-glofas-forecast/ner_cems-glofas-forecast_v4_2022-08-21_ltmax15d_Np15d725Sp11d625Ep8d575Wp0d125.grib (8.4M)\n",
      "INFO:cdsapi:Downloading https://download-0003-clone.copernicus-climate.eu/cache-compute-0003/cache/data6/adaptor.mars.external-1692749106.0519524-8051-2-d091dc76-1882-473b-81f7-1c16e84a43a8.grib to /Users/tdowning/Insync/tristan.downing@humdata.org/Google Drive - Shared drives/Predictive Analytics/CERF Anticipatory Action/General - All AA projects/Data/public/raw/ner/glofas/cems-glofas-forecast/ner_cems-glofas-forecast_v4_2022-08-21_ltmax15d_Np15d725Sp11d625Ep8d575Wp0d125.grib (8.4M)\n",
      "2023-08-22 17:07:36,875 INFO Download rate 2.4M/s                                                             \n",
      "INFO:cdsapi:Download rate 2.4M/s\n"
     ]
    },
    {
     "data": {
      "text/plain": [
       "[PosixPath('/Users/tdowning/Insync/tristan.downing@humdata.org/Google Drive - Shared drives/Predictive Analytics/CERF Anticipatory Action/General - All AA projects/Data/public/raw/ner/glofas/cems-glofas-forecast/ner_cems-glofas-forecast_v4_2022-08-20_ltmax15d_Np15d725Sp11d625Ep8d575Wp0d125.grib'),\n",
       " PosixPath('/Users/tdowning/Insync/tristan.downing@humdata.org/Google Drive - Shared drives/Predictive Analytics/CERF Anticipatory Action/General - All AA projects/Data/public/raw/ner/glofas/cems-glofas-forecast/ner_cems-glofas-forecast_v4_2022-08-21_ltmax15d_Np15d725Sp11d625Ep8d575Wp0d125.grib')]"
      ]
     },
     "execution_count": 14,
     "metadata": {},
     "output_type": "execute_result"
    }
   ],
   "source": [
    "forecast.download()"
   ]
  },
  {
   "cell_type": "code",
   "execution_count": 15,
   "id": "bd8da19b",
   "metadata": {},
   "outputs": [
    {
     "data": {
      "text/plain": [
       "[PosixPath('/Users/tdowning/Insync/tristan.downing@humdata.org/Google Drive - Shared drives/Predictive Analytics/CERF Anticipatory Action/General - All AA projects/Data/public/processed/ner/glofas/ner_cems-glofas-forecast_v4_2022-08-20_ltmax15d_Np15d725Sp11d625Ep8d575Wp0d125_processed.nc'),\n",
       " PosixPath('/Users/tdowning/Insync/tristan.downing@humdata.org/Google Drive - Shared drives/Predictive Analytics/CERF Anticipatory Action/General - All AA projects/Data/public/processed/ner/glofas/ner_cems-glofas-forecast_v4_2022-08-21_ltmax15d_Np15d725Sp11d625Ep8d575Wp0d125_processed.nc')]"
      ]
     },
     "execution_count": 15,
     "metadata": {},
     "output_type": "execute_result"
    }
   ],
   "source": [
    "forecast.process()"
   ]
  },
  {
   "cell_type": "code",
   "execution_count": 16,
   "id": "1366e3c8",
   "metadata": {
    "scrolled": false
   },
   "outputs": [],
   "source": [
    "d = forecast.load()"
   ]
  },
  {
   "cell_type": "code",
   "execution_count": 17,
   "id": "f0e0d18f",
   "metadata": {},
   "outputs": [],
   "source": [
    "df = d.to_dataframe()"
   ]
  },
  {
   "cell_type": "code",
   "execution_count": 18,
   "id": "e80afca9",
   "metadata": {},
   "outputs": [
    {
     "data": {
      "text/plain": [
       "<Axes: xlabel='step'>"
      ]
     },
     "execution_count": 18,
     "metadata": {},
     "output_type": "execute_result"
    },
    {
     "data": {
      "image/png": "[encoded data removed]",
      "text/plain": [
       "<Figure size 640x480 with 1 Axes>"
      ]
     },
     "metadata": {},
     "output_type": "display_data"
    }
   ],
   "source": [
    "df.loc[(\"2022-08-20\", 0)][\"Niamey\"].plot()"
   ]
  },
  {
   "cell_type": "code",
   "execution_count": null,
   "id": "d45e76e6",
   "metadata": {},
   "outputs": [],
   "source": []
  }
 ],
 "metadata": {
  "kernelspec": {
   "display_name": "pa-aa-ner-flooding",
   "language": "python",
   "name": "pa-aa-ner-flooding"
  },
  "language_info": {
   "codemirror_mode": {
    "name": "ipython",
    "version": 3
   },
   "file_extension": ".py",
   "mimetype": "text/x-python",
   "name": "python",
   "nbconvert_exporter": "python",
   "pygments_lexer": "ipython3",
   "version": "3.11.4"
  }
 },
 "nbformat": 4,
 "nbformat_minor": 5
}
